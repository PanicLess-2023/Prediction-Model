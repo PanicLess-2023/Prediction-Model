{
 "cells": [
  {
   "cell_type": "markdown",
   "id": "50df7a33",
   "metadata": {},
   "source": [
    "# Dependencies"
   ]
  },
  {
   "cell_type": "code",
   "execution_count": 1,
   "id": "86ef878f",
   "metadata": {},
   "outputs": [],
   "source": [
    "import numpy as np\n",
    "import pandas as pd\n",
    "import matplotlib.pyplot as plt\n",
    "from sklearn.model_selection import train_test_split\n",
    "from sklearn.ensemble import RandomForestClassifier\n",
    "from sklearn.metrics import accuracy_score, confusion_matrix, log_loss\n",
    "from sklearn.metrics import ConfusionMatrixDisplay\n",
    "from sklearn.metrics import precision_score, recall_score, f1_score"
   ]
  },
  {
   "cell_type": "markdown",
   "id": "f1aa91c6",
   "metadata": {},
   "source": [
    "# Reading The Dataset"
   ]
  },
  {
   "cell_type": "code",
   "execution_count": 2,
   "id": "d601b5c1",
   "metadata": {},
   "outputs": [],
   "source": [
    "data= pd.read_csv(\"Our Dataset v1.csv\")"
   ]
  },
  {
   "cell_type": "markdown",
   "id": "3e5c34a5",
   "metadata": {},
   "source": [
    "# Turning The Dataset Into Zeros and Ones"
   ]
  },
  {
   "cell_type": "code",
   "execution_count": 3,
   "id": "3787986d",
   "metadata": {},
   "outputs": [
    {
     "data": {
      "text/html": [
       "<div>\n",
       "<style scoped>\n",
       "    .dataframe tbody tr th:only-of-type {\n",
       "        vertical-align: middle;\n",
       "    }\n",
       "\n",
       "    .dataframe tbody tr th {\n",
       "        vertical-align: top;\n",
       "    }\n",
       "\n",
       "    .dataframe thead th {\n",
       "        text-align: right;\n",
       "    }\n",
       "</style>\n",
       "<table border=\"1\" class=\"dataframe\">\n",
       "  <thead>\n",
       "    <tr style=\"text-align: right;\">\n",
       "      <th></th>\n",
       "      <th>feeling nervous</th>\n",
       "      <th>panic</th>\n",
       "      <th>breathing rapidly</th>\n",
       "      <th>sweating</th>\n",
       "      <th>trouble in concentration</th>\n",
       "      <th>having trouble in sleeping</th>\n",
       "      <th>having trouble with work</th>\n",
       "      <th>hopelessness</th>\n",
       "      <th>anger</th>\n",
       "      <th>overreact</th>\n",
       "      <th>...</th>\n",
       "      <th>weight gain</th>\n",
       "      <th>material possessions</th>\n",
       "      <th>introvert</th>\n",
       "      <th>popping up stressful memory</th>\n",
       "      <th>having nightmares</th>\n",
       "      <th>avoids people or activities</th>\n",
       "      <th>feeling negative</th>\n",
       "      <th>trouble concentrating</th>\n",
       "      <th>blaming yourself</th>\n",
       "      <th>Disorder</th>\n",
       "    </tr>\n",
       "  </thead>\n",
       "  <tbody>\n",
       "    <tr>\n",
       "      <th>0</th>\n",
       "      <td>1</td>\n",
       "      <td>1</td>\n",
       "      <td>1</td>\n",
       "      <td>1</td>\n",
       "      <td>1</td>\n",
       "      <td>1</td>\n",
       "      <td>0</td>\n",
       "      <td>0</td>\n",
       "      <td>0</td>\n",
       "      <td>0</td>\n",
       "      <td>...</td>\n",
       "      <td>0</td>\n",
       "      <td>0</td>\n",
       "      <td>0</td>\n",
       "      <td>0</td>\n",
       "      <td>0</td>\n",
       "      <td>0</td>\n",
       "      <td>0</td>\n",
       "      <td>0</td>\n",
       "      <td>0</td>\n",
       "      <td>1</td>\n",
       "    </tr>\n",
       "    <tr>\n",
       "      <th>1</th>\n",
       "      <td>0</td>\n",
       "      <td>0</td>\n",
       "      <td>0</td>\n",
       "      <td>0</td>\n",
       "      <td>0</td>\n",
       "      <td>0</td>\n",
       "      <td>1</td>\n",
       "      <td>1</td>\n",
       "      <td>1</td>\n",
       "      <td>1</td>\n",
       "      <td>...</td>\n",
       "      <td>0</td>\n",
       "      <td>0</td>\n",
       "      <td>0</td>\n",
       "      <td>0</td>\n",
       "      <td>0</td>\n",
       "      <td>0</td>\n",
       "      <td>0</td>\n",
       "      <td>0</td>\n",
       "      <td>0</td>\n",
       "      <td>0</td>\n",
       "    </tr>\n",
       "    <tr>\n",
       "      <th>2</th>\n",
       "      <td>0</td>\n",
       "      <td>0</td>\n",
       "      <td>0</td>\n",
       "      <td>0</td>\n",
       "      <td>0</td>\n",
       "      <td>0</td>\n",
       "      <td>0</td>\n",
       "      <td>0</td>\n",
       "      <td>0</td>\n",
       "      <td>0</td>\n",
       "      <td>...</td>\n",
       "      <td>1</td>\n",
       "      <td>1</td>\n",
       "      <td>1</td>\n",
       "      <td>0</td>\n",
       "      <td>0</td>\n",
       "      <td>0</td>\n",
       "      <td>0</td>\n",
       "      <td>0</td>\n",
       "      <td>0</td>\n",
       "      <td>0</td>\n",
       "    </tr>\n",
       "    <tr>\n",
       "      <th>3</th>\n",
       "      <td>0</td>\n",
       "      <td>0</td>\n",
       "      <td>0</td>\n",
       "      <td>0</td>\n",
       "      <td>0</td>\n",
       "      <td>0</td>\n",
       "      <td>0</td>\n",
       "      <td>0</td>\n",
       "      <td>0</td>\n",
       "      <td>0</td>\n",
       "      <td>...</td>\n",
       "      <td>0</td>\n",
       "      <td>0</td>\n",
       "      <td>0</td>\n",
       "      <td>1</td>\n",
       "      <td>1</td>\n",
       "      <td>1</td>\n",
       "      <td>1</td>\n",
       "      <td>1</td>\n",
       "      <td>1</td>\n",
       "      <td>1</td>\n",
       "    </tr>\n",
       "    <tr>\n",
       "      <th>4</th>\n",
       "      <td>0</td>\n",
       "      <td>0</td>\n",
       "      <td>0</td>\n",
       "      <td>0</td>\n",
       "      <td>0</td>\n",
       "      <td>0</td>\n",
       "      <td>0</td>\n",
       "      <td>0</td>\n",
       "      <td>0</td>\n",
       "      <td>0</td>\n",
       "      <td>...</td>\n",
       "      <td>0</td>\n",
       "      <td>0</td>\n",
       "      <td>0</td>\n",
       "      <td>0</td>\n",
       "      <td>0</td>\n",
       "      <td>0</td>\n",
       "      <td>0</td>\n",
       "      <td>0</td>\n",
       "      <td>0</td>\n",
       "      <td>0</td>\n",
       "    </tr>\n",
       "    <tr>\n",
       "      <th>...</th>\n",
       "      <td>...</td>\n",
       "      <td>...</td>\n",
       "      <td>...</td>\n",
       "      <td>...</td>\n",
       "      <td>...</td>\n",
       "      <td>...</td>\n",
       "      <td>...</td>\n",
       "      <td>...</td>\n",
       "      <td>...</td>\n",
       "      <td>...</td>\n",
       "      <td>...</td>\n",
       "      <td>...</td>\n",
       "      <td>...</td>\n",
       "      <td>...</td>\n",
       "      <td>...</td>\n",
       "      <td>...</td>\n",
       "      <td>...</td>\n",
       "      <td>...</td>\n",
       "      <td>...</td>\n",
       "      <td>...</td>\n",
       "      <td>...</td>\n",
       "    </tr>\n",
       "    <tr>\n",
       "      <th>200</th>\n",
       "      <td>1</td>\n",
       "      <td>0</td>\n",
       "      <td>0</td>\n",
       "      <td>0</td>\n",
       "      <td>0</td>\n",
       "      <td>0</td>\n",
       "      <td>1</td>\n",
       "      <td>0</td>\n",
       "      <td>0</td>\n",
       "      <td>0</td>\n",
       "      <td>...</td>\n",
       "      <td>0</td>\n",
       "      <td>0</td>\n",
       "      <td>0</td>\n",
       "      <td>1</td>\n",
       "      <td>0</td>\n",
       "      <td>0</td>\n",
       "      <td>0</td>\n",
       "      <td>0</td>\n",
       "      <td>1</td>\n",
       "      <td>1</td>\n",
       "    </tr>\n",
       "    <tr>\n",
       "      <th>201</th>\n",
       "      <td>0</td>\n",
       "      <td>1</td>\n",
       "      <td>0</td>\n",
       "      <td>1</td>\n",
       "      <td>0</td>\n",
       "      <td>0</td>\n",
       "      <td>0</td>\n",
       "      <td>1</td>\n",
       "      <td>0</td>\n",
       "      <td>0</td>\n",
       "      <td>...</td>\n",
       "      <td>0</td>\n",
       "      <td>0</td>\n",
       "      <td>0</td>\n",
       "      <td>0</td>\n",
       "      <td>1</td>\n",
       "      <td>0</td>\n",
       "      <td>0</td>\n",
       "      <td>0</td>\n",
       "      <td>0</td>\n",
       "      <td>1</td>\n",
       "    </tr>\n",
       "    <tr>\n",
       "      <th>202</th>\n",
       "      <td>0</td>\n",
       "      <td>0</td>\n",
       "      <td>0</td>\n",
       "      <td>0</td>\n",
       "      <td>1</td>\n",
       "      <td>0</td>\n",
       "      <td>1</td>\n",
       "      <td>0</td>\n",
       "      <td>1</td>\n",
       "      <td>0</td>\n",
       "      <td>...</td>\n",
       "      <td>1</td>\n",
       "      <td>1</td>\n",
       "      <td>0</td>\n",
       "      <td>0</td>\n",
       "      <td>0</td>\n",
       "      <td>0</td>\n",
       "      <td>0</td>\n",
       "      <td>0</td>\n",
       "      <td>0</td>\n",
       "      <td>1</td>\n",
       "    </tr>\n",
       "    <tr>\n",
       "      <th>203</th>\n",
       "      <td>0</td>\n",
       "      <td>0</td>\n",
       "      <td>0</td>\n",
       "      <td>1</td>\n",
       "      <td>0</td>\n",
       "      <td>1</td>\n",
       "      <td>0</td>\n",
       "      <td>1</td>\n",
       "      <td>0</td>\n",
       "      <td>0</td>\n",
       "      <td>...</td>\n",
       "      <td>0</td>\n",
       "      <td>0</td>\n",
       "      <td>1</td>\n",
       "      <td>0</td>\n",
       "      <td>1</td>\n",
       "      <td>0</td>\n",
       "      <td>0</td>\n",
       "      <td>0</td>\n",
       "      <td>1</td>\n",
       "      <td>1</td>\n",
       "    </tr>\n",
       "    <tr>\n",
       "      <th>204</th>\n",
       "      <td>0</td>\n",
       "      <td>1</td>\n",
       "      <td>0</td>\n",
       "      <td>0</td>\n",
       "      <td>0</td>\n",
       "      <td>0</td>\n",
       "      <td>0</td>\n",
       "      <td>0</td>\n",
       "      <td>1</td>\n",
       "      <td>0</td>\n",
       "      <td>...</td>\n",
       "      <td>1</td>\n",
       "      <td>0</td>\n",
       "      <td>1</td>\n",
       "      <td>0</td>\n",
       "      <td>0</td>\n",
       "      <td>0</td>\n",
       "      <td>1</td>\n",
       "      <td>0</td>\n",
       "      <td>0</td>\n",
       "      <td>1</td>\n",
       "    </tr>\n",
       "  </tbody>\n",
       "</table>\n",
       "<p>205 rows × 25 columns</p>\n",
       "</div>"
      ],
      "text/plain": [
       "    feeling nervous panic breathing rapidly sweating trouble in concentration  \\\n",
       "0                 1     1                 1        1                        1   \n",
       "1                 0     0                 0        0                        0   \n",
       "2                 0     0                 0        0                        0   \n",
       "3                 0     0                 0        0                        0   \n",
       "4                 0     0                 0        0                        0   \n",
       "..              ...   ...               ...      ...                      ...   \n",
       "200               1     0                 0        0                        0   \n",
       "201               0     1                 0        1                        0   \n",
       "202               0     0                 0        0                        1   \n",
       "203               0     0                 0        1                        0   \n",
       "204               0     1                 0        0                        0   \n",
       "\n",
       "    having trouble in sleeping having trouble with work hopelessness anger  \\\n",
       "0                            1                        0            0     0   \n",
       "1                            0                        1            1     1   \n",
       "2                            0                        0            0     0   \n",
       "3                            0                        0            0     0   \n",
       "4                            0                        0            0     0   \n",
       "..                         ...                      ...          ...   ...   \n",
       "200                          0                        1            0     0   \n",
       "201                          0                        0            1     0   \n",
       "202                          0                        1            0     1   \n",
       "203                          1                        0            1     0   \n",
       "204                          0                        0            0     1   \n",
       "\n",
       "    overreact  ... weight gain material possessions introvert  \\\n",
       "0           0  ...           0                    0         0   \n",
       "1           1  ...           0                    0         0   \n",
       "2           0  ...           1                    1         1   \n",
       "3           0  ...           0                    0         0   \n",
       "4           0  ...           0                    0         0   \n",
       "..        ...  ...         ...                  ...       ...   \n",
       "200         0  ...           0                    0         0   \n",
       "201         0  ...           0                    0         0   \n",
       "202         0  ...           1                    1         0   \n",
       "203         0  ...           0                    0         1   \n",
       "204         0  ...           1                    0         1   \n",
       "\n",
       "    popping up stressful memory having nightmares avoids people or activities  \\\n",
       "0                             0                 0                           0   \n",
       "1                             0                 0                           0   \n",
       "2                             0                 0                           0   \n",
       "3                             1                 1                           1   \n",
       "4                             0                 0                           0   \n",
       "..                          ...               ...                         ...   \n",
       "200                           1                 0                           0   \n",
       "201                           0                 1                           0   \n",
       "202                           0                 0                           0   \n",
       "203                           0                 1                           0   \n",
       "204                           0                 0                           0   \n",
       "\n",
       "    feeling negative trouble concentrating blaming yourself Disorder  \n",
       "0                  0                     0                0        1  \n",
       "1                  0                     0                0        0  \n",
       "2                  0                     0                0        0  \n",
       "3                  1                     1                1        1  \n",
       "4                  0                     0                0        0  \n",
       "..               ...                   ...              ...      ...  \n",
       "200                0                     0                1        1  \n",
       "201                0                     0                0        1  \n",
       "202                0                     0                0        1  \n",
       "203                0                     0                1        1  \n",
       "204                1                     0                0        1  \n",
       "\n",
       "[205 rows x 25 columns]"
      ]
     },
     "execution_count": 3,
     "metadata": {},
     "output_type": "execute_result"
    }
   ],
   "source": [
    "mod_data=data.replace(to_replace=[\"yes\",\"no\"],value=[\"1\",\"0\"])\n",
    "mod_data"
   ]
  },
  {
   "cell_type": "markdown",
   "id": "6c736bfe",
   "metadata": {},
   "source": [
    "# Filling The Cells with Null Values"
   ]
  },
  {
   "cell_type": "code",
   "execution_count": 4,
   "id": "58cdde0d",
   "metadata": {},
   "outputs": [],
   "source": [
    "mod_data['Disorder'].fillna(mod_data.groupby('anger')['Disorder'].transform(\"median\") , inplace= True)"
   ]
  },
  {
   "cell_type": "markdown",
   "id": "9fa91a71",
   "metadata": {},
   "source": [
    "# Switching Data Type "
   ]
  },
  {
   "cell_type": "code",
   "execution_count": 5,
   "id": "2a3c2a1a",
   "metadata": {},
   "outputs": [
    {
     "data": {
      "text/plain": [
       "feeling nervous                object\n",
       "panic                          object\n",
       "breathing rapidly              object\n",
       "sweating                       object\n",
       "trouble in concentration       object\n",
       "having trouble in sleeping     object\n",
       "having trouble with work       object\n",
       "hopelessness                   object\n",
       "anger                          object\n",
       "overreact                      object\n",
       "change in eating               object\n",
       "suicidal thought               object\n",
       "feeling tired                  object\n",
       "close friend                   object\n",
       "social media addiction         object\n",
       "weight gain                    object\n",
       "material possessions           object\n",
       "introvert                      object\n",
       "popping up stressful memory    object\n",
       "having nightmares              object\n",
       "avoids people or activities    object\n",
       "feeling negative               object\n",
       "trouble concentrating          object\n",
       "blaming yourself               object\n",
       "Disorder                       object\n",
       "dtype: object"
      ]
     },
     "execution_count": 5,
     "metadata": {},
     "output_type": "execute_result"
    }
   ],
   "source": [
    "mod_data.dtypes"
   ]
  },
  {
   "cell_type": "code",
   "execution_count": 6,
   "id": "1b6672c4",
   "metadata": {},
   "outputs": [
    {
     "data": {
      "text/plain": [
       "feeling nervous                int32\n",
       "panic                          int32\n",
       "breathing rapidly              int32\n",
       "sweating                       int32\n",
       "trouble in concentration       int32\n",
       "having trouble in sleeping     int32\n",
       "having trouble with work       int32\n",
       "hopelessness                   int32\n",
       "anger                          int32\n",
       "overreact                      int32\n",
       "change in eating               int32\n",
       "suicidal thought               int32\n",
       "feeling tired                  int32\n",
       "close friend                   int32\n",
       "social media addiction         int32\n",
       "weight gain                    int32\n",
       "material possessions           int32\n",
       "introvert                      int32\n",
       "popping up stressful memory    int32\n",
       "having nightmares              int32\n",
       "avoids people or activities    int32\n",
       "feeling negative               int32\n",
       "trouble concentrating          int32\n",
       "blaming yourself               int32\n",
       "Disorder                       int32\n",
       "dtype: object"
      ]
     },
     "execution_count": 6,
     "metadata": {},
     "output_type": "execute_result"
    }
   ],
   "source": [
    "mod_data=mod_data.astype(int)\n",
    "mod_data.dtypes"
   ]
  },
  {
   "cell_type": "markdown",
   "id": "c108119c",
   "metadata": {},
   "source": [
    "# separating the data and the labels"
   ]
  },
  {
   "cell_type": "code",
   "execution_count": 7,
   "id": "8c38076e",
   "metadata": {},
   "outputs": [],
   "source": [
    "X = mod_data.drop(columns = \"Disorder\" , axis=1) #if axis=0 then you're dropping a row\n",
    "Y =mod_data[\"Disorder\"] "
   ]
  },
  {
   "cell_type": "code",
   "execution_count": 8,
   "id": "74e8c0ac",
   "metadata": {},
   "outputs": [
    {
     "name": "stdout",
     "output_type": "stream",
     "text": [
      "     feeling nervous  panic  breathing rapidly  sweating  \\\n",
      "0                  1      1                  1         1   \n",
      "1                  0      0                  0         0   \n",
      "2                  0      0                  0         0   \n",
      "3                  0      0                  0         0   \n",
      "4                  0      0                  0         0   \n",
      "..               ...    ...                ...       ...   \n",
      "200                1      0                  0         0   \n",
      "201                0      1                  0         1   \n",
      "202                0      0                  0         0   \n",
      "203                0      0                  0         1   \n",
      "204                0      1                  0         0   \n",
      "\n",
      "     trouble in concentration  having trouble in sleeping  \\\n",
      "0                           1                           1   \n",
      "1                           0                           0   \n",
      "2                           0                           0   \n",
      "3                           0                           0   \n",
      "4                           0                           0   \n",
      "..                        ...                         ...   \n",
      "200                         0                           0   \n",
      "201                         0                           0   \n",
      "202                         1                           0   \n",
      "203                         0                           1   \n",
      "204                         0                           0   \n",
      "\n",
      "     having trouble with work  hopelessness  anger  overreact  ...  \\\n",
      "0                           0             0      0          0  ...   \n",
      "1                           1             1      1          1  ...   \n",
      "2                           0             0      0          0  ...   \n",
      "3                           0             0      0          0  ...   \n",
      "4                           0             0      0          0  ...   \n",
      "..                        ...           ...    ...        ...  ...   \n",
      "200                         1             0      0          0  ...   \n",
      "201                         0             1      0          0  ...   \n",
      "202                         1             0      1          0  ...   \n",
      "203                         0             1      0          0  ...   \n",
      "204                         0             0      1          0  ...   \n",
      "\n",
      "     social media addiction  weight gain  material possessions  introvert  \\\n",
      "0                         0            0                     0          0   \n",
      "1                         0            0                     0          0   \n",
      "2                         1            1                     1          1   \n",
      "3                         0            0                     0          0   \n",
      "4                         0            0                     0          0   \n",
      "..                      ...          ...                   ...        ...   \n",
      "200                       0            0                     0          0   \n",
      "201                       1            0                     0          0   \n",
      "202                       0            1                     1          0   \n",
      "203                       0            0                     0          1   \n",
      "204                       0            1                     0          1   \n",
      "\n",
      "     popping up stressful memory  having nightmares  \\\n",
      "0                              0                  0   \n",
      "1                              0                  0   \n",
      "2                              0                  0   \n",
      "3                              1                  1   \n",
      "4                              0                  0   \n",
      "..                           ...                ...   \n",
      "200                            1                  0   \n",
      "201                            0                  1   \n",
      "202                            0                  0   \n",
      "203                            0                  1   \n",
      "204                            0                  0   \n",
      "\n",
      "     avoids people or activities  feeling negative  trouble concentrating  \\\n",
      "0                              0                 0                      0   \n",
      "1                              0                 0                      0   \n",
      "2                              0                 0                      0   \n",
      "3                              1                 1                      1   \n",
      "4                              0                 0                      0   \n",
      "..                           ...               ...                    ...   \n",
      "200                            0                 0                      0   \n",
      "201                            0                 0                      0   \n",
      "202                            0                 0                      0   \n",
      "203                            0                 0                      0   \n",
      "204                            0                 1                      0   \n",
      "\n",
      "     blaming yourself  \n",
      "0                   0  \n",
      "1                   0  \n",
      "2                   0  \n",
      "3                   1  \n",
      "4                   0  \n",
      "..                ...  \n",
      "200                 1  \n",
      "201                 0  \n",
      "202                 0  \n",
      "203                 1  \n",
      "204                 0  \n",
      "\n",
      "[205 rows x 24 columns]\n"
     ]
    }
   ],
   "source": [
    "print(X)"
   ]
  },
  {
   "cell_type": "code",
   "execution_count": 9,
   "id": "0a274fa7",
   "metadata": {},
   "outputs": [
    {
     "name": "stdout",
     "output_type": "stream",
     "text": [
      "0      1\n",
      "1      0\n",
      "2      0\n",
      "3      1\n",
      "4      0\n",
      "      ..\n",
      "200    1\n",
      "201    1\n",
      "202    1\n",
      "203    1\n",
      "204    1\n",
      "Name: Disorder, Length: 205, dtype: int32\n"
     ]
    }
   ],
   "source": [
    "print(Y)"
   ]
  },
  {
   "cell_type": "markdown",
   "id": "d8df0385",
   "metadata": {},
   "source": [
    "# Splitting The Data Into Training and Test Data"
   ]
  },
  {
   "cell_type": "code",
   "execution_count": 10,
   "id": "f8c327a7",
   "metadata": {},
   "outputs": [],
   "source": [
    "X_train , X_test , Y_train , Y_test =train_test_split(X , Y ,test_size = 0.2, random_state = 2)"
   ]
  },
  {
   "cell_type": "code",
   "execution_count": 11,
   "id": "4d65ad44",
   "metadata": {},
   "outputs": [
    {
     "name": "stdout",
     "output_type": "stream",
     "text": [
      "(205, 24) (164, 24) (41, 24)\n"
     ]
    }
   ],
   "source": [
    "print(X.shape , X_train.shape , X_test.shape)"
   ]
  },
  {
   "cell_type": "markdown",
   "id": "b9627cea",
   "metadata": {},
   "source": [
    "# Training The Model "
   ]
  },
  {
   "cell_type": "code",
   "execution_count": 12,
   "id": "a3542ab0",
   "metadata": {},
   "outputs": [],
   "source": [
    "classifier = RandomForestClassifier(n_estimators=100)\n",
    "classifier.feature_names = X.columns"
   ]
  },
  {
   "cell_type": "code",
   "execution_count": 13,
   "id": "77ab2925",
   "metadata": {},
   "outputs": [
    {
     "data": {
      "text/html": [
       "<style>#sk-container-id-1 {color: black;background-color: white;}#sk-container-id-1 pre{padding: 0;}#sk-container-id-1 div.sk-toggleable {background-color: white;}#sk-container-id-1 label.sk-toggleable__label {cursor: pointer;display: block;width: 100%;margin-bottom: 0;padding: 0.3em;box-sizing: border-box;text-align: center;}#sk-container-id-1 label.sk-toggleable__label-arrow:before {content: \"▸\";float: left;margin-right: 0.25em;color: #696969;}#sk-container-id-1 label.sk-toggleable__label-arrow:hover:before {color: black;}#sk-container-id-1 div.sk-estimator:hover label.sk-toggleable__label-arrow:before {color: black;}#sk-container-id-1 div.sk-toggleable__content {max-height: 0;max-width: 0;overflow: hidden;text-align: left;background-color: #f0f8ff;}#sk-container-id-1 div.sk-toggleable__content pre {margin: 0.2em;color: black;border-radius: 0.25em;background-color: #f0f8ff;}#sk-container-id-1 input.sk-toggleable__control:checked~div.sk-toggleable__content {max-height: 200px;max-width: 100%;overflow: auto;}#sk-container-id-1 input.sk-toggleable__control:checked~label.sk-toggleable__label-arrow:before {content: \"▾\";}#sk-container-id-1 div.sk-estimator input.sk-toggleable__control:checked~label.sk-toggleable__label {background-color: #d4ebff;}#sk-container-id-1 div.sk-label input.sk-toggleable__control:checked~label.sk-toggleable__label {background-color: #d4ebff;}#sk-container-id-1 input.sk-hidden--visually {border: 0;clip: rect(1px 1px 1px 1px);clip: rect(1px, 1px, 1px, 1px);height: 1px;margin: -1px;overflow: hidden;padding: 0;position: absolute;width: 1px;}#sk-container-id-1 div.sk-estimator {font-family: monospace;background-color: #f0f8ff;border: 1px dotted black;border-radius: 0.25em;box-sizing: border-box;margin-bottom: 0.5em;}#sk-container-id-1 div.sk-estimator:hover {background-color: #d4ebff;}#sk-container-id-1 div.sk-parallel-item::after {content: \"\";width: 100%;border-bottom: 1px solid gray;flex-grow: 1;}#sk-container-id-1 div.sk-label:hover label.sk-toggleable__label {background-color: #d4ebff;}#sk-container-id-1 div.sk-serial::before {content: \"\";position: absolute;border-left: 1px solid gray;box-sizing: border-box;top: 0;bottom: 0;left: 50%;z-index: 0;}#sk-container-id-1 div.sk-serial {display: flex;flex-direction: column;align-items: center;background-color: white;padding-right: 0.2em;padding-left: 0.2em;position: relative;}#sk-container-id-1 div.sk-item {position: relative;z-index: 1;}#sk-container-id-1 div.sk-parallel {display: flex;align-items: stretch;justify-content: center;background-color: white;position: relative;}#sk-container-id-1 div.sk-item::before, #sk-container-id-1 div.sk-parallel-item::before {content: \"\";position: absolute;border-left: 1px solid gray;box-sizing: border-box;top: 0;bottom: 0;left: 50%;z-index: -1;}#sk-container-id-1 div.sk-parallel-item {display: flex;flex-direction: column;z-index: 1;position: relative;background-color: white;}#sk-container-id-1 div.sk-parallel-item:first-child::after {align-self: flex-end;width: 50%;}#sk-container-id-1 div.sk-parallel-item:last-child::after {align-self: flex-start;width: 50%;}#sk-container-id-1 div.sk-parallel-item:only-child::after {width: 0;}#sk-container-id-1 div.sk-dashed-wrapped {border: 1px dashed gray;margin: 0 0.4em 0.5em 0.4em;box-sizing: border-box;padding-bottom: 0.4em;background-color: white;}#sk-container-id-1 div.sk-label label {font-family: monospace;font-weight: bold;display: inline-block;line-height: 1.2em;}#sk-container-id-1 div.sk-label-container {text-align: center;}#sk-container-id-1 div.sk-container {/* jupyter's `normalize.less` sets `[hidden] { display: none; }` but bootstrap.min.css set `[hidden] { display: none !important; }` so we also need the `!important` here to be able to override the default hidden behavior on the sphinx rendered scikit-learn.org. See: https://github.com/scikit-learn/scikit-learn/issues/21755 */display: inline-block !important;position: relative;}#sk-container-id-1 div.sk-text-repr-fallback {display: none;}</style><div id=\"sk-container-id-1\" class=\"sk-top-container\"><div class=\"sk-text-repr-fallback\"><pre>RandomForestClassifier()</pre><b>In a Jupyter environment, please rerun this cell to show the HTML representation or trust the notebook. <br />On GitHub, the HTML representation is unable to render, please try loading this page with nbviewer.org.</b></div><div class=\"sk-container\" hidden><div class=\"sk-item\"><div class=\"sk-estimator sk-toggleable\"><input class=\"sk-toggleable__control sk-hidden--visually\" id=\"sk-estimator-id-1\" type=\"checkbox\" checked><label for=\"sk-estimator-id-1\" class=\"sk-toggleable__label sk-toggleable__label-arrow\">RandomForestClassifier</label><div class=\"sk-toggleable__content\"><pre>RandomForestClassifier()</pre></div></div></div></div></div>"
      ],
      "text/plain": [
       "RandomForestClassifier()"
      ]
     },
     "execution_count": 13,
     "metadata": {},
     "output_type": "execute_result"
    }
   ],
   "source": [
    "classifier.fit(X_train ,Y_train)"
   ]
  },
  {
   "cell_type": "markdown",
   "id": "91a22411",
   "metadata": {},
   "source": [
    "# Accuracy Score"
   ]
  },
  {
   "cell_type": "code",
   "execution_count": 14,
   "id": "1bbcd3f6",
   "metadata": {},
   "outputs": [],
   "source": [
    "#on the training data\n",
    "X_train_prediction = classifier.predict(X_train)\n",
    "training_data_accuracy = accuracy_score(X_train_prediction ,Y_train)\n",
    "#on the testing data\n",
    "X_test_prediction = classifier.predict(X_test)\n",
    "testing_data_accuracy = accuracy_score( X_test_prediction , Y_test)"
   ]
  },
  {
   "cell_type": "code",
   "execution_count": 168,
   "id": "8ece76a1",
   "metadata": {},
   "outputs": [
    {
     "name": "stdout",
     "output_type": "stream",
     "text": [
      "Training Data Accuracy Score is :  0.975609756097561\n",
      "Testing Data Accuracy Score is :  0.9024390243902439\n"
     ]
    }
   ],
   "source": [
    "print(\"Training Data Accuracy Score is : \", training_data_accuracy)\n",
    "print(\"Testing Data Accuracy Score is : \", testing_data_accuracy)"
   ]
  },
  {
   "cell_type": "markdown",
   "id": "0de8e465",
   "metadata": {},
   "source": [
    "# Building A Predictive System"
   ]
  },
  {
   "cell_type": "code",
   "execution_count": 218,
   "id": "9a177c9e",
   "metadata": {},
   "outputs": [
    {
     "name": "stdout",
     "output_type": "stream",
     "text": [
      "You Should Consider Going To The Doctor\n"
     ]
    },
    {
     "name": "stderr",
     "output_type": "stream",
     "text": [
      "C:\\Users\\Lenovo\\AppData\\Local\\Programs\\Python\\Python311\\Lib\\site-packages\\sklearn\\base.py:439: UserWarning: X does not have valid feature names, but RandomForestClassifier was fitted with feature names\n",
      "  warnings.warn(\n"
     ]
    }
   ],
   "source": [
    "input_data = pd.Series([1,1,1,1,1,1,1,1,1,1,1,0,0,0,0,0,0,0,0,0,0,0,0,0])\n",
    "#chainging the input data to numpy array\n",
    "input_data_as_numpy_array=np.asarray(input_data)\n",
    "\n",
    "\n",
    "\n",
    "#reshape the array as we are predicting for one instance\n",
    "input_data_reshaped = input_data_as_numpy_array.reshape(1, -1)\n",
    "\n",
    "#The Result\n",
    "prediction = classifier.predict(input_data_reshaped)\n",
    "#print(prediction)\n",
    "if(prediction == 1):\n",
    "    print(\"You Should Consider Going To The Doctor\")\n",
    "elif(prediction == 0):\n",
    "    print(\"We Believe That There is No serious Concern For You To See The Doctor\")"
   ]
  },
  {
   "cell_type": "code",
   "execution_count": 20,
   "id": "19e8de6b",
   "metadata": {},
   "outputs": [
    {
     "data": {
      "image/png": "[encoded data removed]",
      "text/plain": [
       "<Figure size 1000x600 with 2 Axes>"
      ]
     },
     "metadata": {},
     "output_type": "display_data"
    }
   ],
   "source": [
    "cm = confusion_matrix(Y_test, X_test_prediction)\n",
    "\n",
    "plt.imshow(cm, interpolation='nearest', cmap=plt.cm.Blues)\n",
    "plt.title('Confusion Matrix', color='white')\n",
    "plt.colorbar()\n",
    "\n",
    "classes = ['Class 0', 'Class 1']\n",
    "num_classes = len(classes)\n",
    "tick_marks = np.arange(num_classes)\n",
    "\n",
    "plt.xticks(tick_marks, classes, rotation=45, color='white')\n",
    "plt.yticks(tick_marks, classes, color='white')\n",
    "\n",
    "thresh = cm.max() / 2.0\n",
    "\n",
    "for i in range(num_classes):\n",
    "    for j in range(num_classes):\n",
    "        plt.text(j, i, cm[i, j],\n",
    "                 horizontalalignment=\"center\",\n",
    "                 color=\"white\" if cm[i, j] > thresh else \"black\")\n",
    "\n",
    "plt.gcf().set_size_inches(10, 6)\n",
    "plt.xlabel('Predicted Label', color='white')\n",
    "plt.ylabel('True Label', color='white')\n",
    "plt.gca().tick_params(colors='white')\n",
    "\n",
    "plt.show()"
   ]
  },
  {
   "cell_type": "code",
   "execution_count": 212,
   "id": "18039b79",
   "metadata": {},
   "outputs": [
    {
     "name": "stdout",
     "output_type": "stream",
     "text": [
      "Epoch 1: Accuracy = 0.8048780487804879, Loss = 7.032907978364323\n",
      "Epoch 2: Accuracy = 0.8048780487804879, Loss = 7.032907978364323\n",
      "Epoch 3: Accuracy = 0.8536585365853658, Loss = 5.274680983773242\n",
      "Epoch 4: Accuracy = 0.8536585365853658, Loss = 5.274680983773242\n",
      "Epoch 5: Accuracy = 0.8292682926829268, Loss = 6.153794481068782\n",
      "Epoch 6: Accuracy = 0.9024390243902439, Loss = 3.5164539891821613\n",
      "Epoch 7: Accuracy = 0.8536585365853658, Loss = 5.274680983773242\n",
      "Epoch 8: Accuracy = 0.8780487804878049, Loss = 4.3955674864777015\n",
      "Epoch 9: Accuracy = 0.9024390243902439, Loss = 3.5164539891821613\n",
      "Epoch 10: Accuracy = 0.8536585365853658, Loss = 5.274680983773242\n"
     ]
    },
    {
     "data": {
      "image/png": "[encoded data removed]",
      "text/plain": [
       "<Figure size 640x480 with 1 Axes>"
      ]
     },
     "metadata": {},
     "output_type": "display_data"
    },
    {
     "data": {
      "image/png": "[encoded data removed]",
      "text/plain": [
       "<Figure size 640x480 with 1 Axes>"
      ]
     },
     "metadata": {},
     "output_type": "display_data"
    }
   ],
   "source": [
    "accuracy_values = []\n",
    "loss_values = []\n",
    "\n",
    "num_epochs = 10\n",
    "batch_size = 10\n",
    "\n",
    "for epoch in range(num_epochs):\n",
    "    \n",
    "    classifier.fit(X_train, Y_train)\n",
    "    \n",
    "    \n",
    "    \n",
    "    X_train_prediction = classifier.predict(X_train)\n",
    "    training_data_accuracy = accuracy_score(X_train_prediction, Y_train)\n",
    "    training_data_loss = log_loss(Y_train, X_train_prediction)\n",
    "\n",
    "    X_test_prediction = classifier.predict(X_test)\n",
    "    testing_data_accuracy = accuracy_score(X_test_prediction, Y_test)\n",
    "    testing_data_loss = log_loss(Y_test, X_test_prediction)\n",
    "\n",
    "    \n",
    "    accuracy_values.append(testing_data_accuracy)\n",
    "    loss_values.append(testing_data_loss)\n",
    "\n",
    "    \n",
    "    print(f\"Epoch {epoch+1}: Accuracy = {testing_data_accuracy}, Loss = {testing_data_loss}\")\n",
    "\n",
    "# Plot Accuracy\n",
    "plt.plot(range(1, num_epochs+1), accuracy_values)\n",
    "plt.title('Accuracy')\n",
    "plt.xlabel('Epochs')\n",
    "plt.ylabel('Accuracy')\n",
    "plt.show()\n",
    "\n",
    "# Plot Loss\n",
    "plt.plot(range(1, num_epochs+1), loss_values)\n",
    "plt.title('Loss')\n",
    "plt.xlabel('Epochs')\n",
    "plt.ylabel('Loss')\n",
    "plt.show()\n"
   ]
  },
  {
   "cell_type": "code",
   "execution_count": 27,
   "id": "7717afbe",
   "metadata": {},
   "outputs": [
    {
     "name": "stdout",
     "output_type": "stream",
     "text": [
      "Testing Data Accuracy: 0.8536585365853658\n",
      "Testing Data Precision: 0.8260869565217391\n",
      "Testing Data Recall: 0.9047619047619048\n",
      "Testing Data F1 Score: 0.8636363636363636\n"
     ]
    }
   ],
   "source": [
    "# Testing data evaluation\n",
    "X_test_prediction = classifier.predict(X_test)\n",
    "testing_data_accuracy = accuracy_score(X_test_prediction, Y_test)\n",
    "testing_data_precision = precision_score(X_test_prediction, Y_test)\n",
    "testing_data_recall = recall_score(X_test_prediction, Y_test)\n",
    "testing_data_f1_score = f1_score(X_test_prediction, Y_test)\n",
    "\n",
    "print(\"Testing Data Accuracy:\", testing_data_accuracy)\n",
    "print(\"Testing Data Precision:\", testing_data_precision)\n",
    "print(\"Testing Data Recall:\", testing_data_recall)\n",
    "print(\"Testing Data F1 Score:\", testing_data_f1_score)"
   ]
  },
  {
   "cell_type": "code",
   "execution_count": null,
   "id": "dbd9cda5",
   "metadata": {},
   "outputs": [],
   "source": []
  }
 ],
 "metadata": {
  "kernelspec": {
   "display_name": "Python 3 (ipykernel)",
   "language": "python",
   "name": "python3"
  },
  "language_info": {
   "codemirror_mode": {
    "name": "ipython",
    "version": 3
   },
   "file_extension": ".py",
   "mimetype": "text/x-python",
   "name": "python",
   "nbconvert_exporter": "python",
   "pygments_lexer": "ipython3",
   "version": "3.11.2"
  }
 },
 "nbformat": 4,
 "nbformat_minor": 5
}
